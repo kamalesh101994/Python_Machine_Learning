{
 "cells": [
  {
   "cell_type": "markdown",
   "metadata": {},
   "source": [
    "Creating the Dataframe using Pandas"
   ]
  },
  {
   "cell_type": "code",
   "execution_count": 77,
   "metadata": {},
   "outputs": [],
   "source": [
    "#@@@@@@Creating the pandas using List\n",
    "\n",
    "# import pandas as pd\n",
    "# import pandas as pd\n",
    " \n",
    "# lst = ['Geeks', 'For', 'Geeks', 'is', \n",
    "#             'portal', 'for', 'Geeks']\n",
    " \n",
    "# df = pd.DataFrame(lst)\n",
    "# print(df)\n",
    "\n",
    "#@@@@@@Creating the pandas using dict\n",
    "\n",
    "# import pandas as pd\n",
    " \n",
    "\n",
    "# data = {'Name':['Tom', 'nick', 'krish', 'jack'],\n",
    "#         'Age':[20, 21, 19,35]}\n",
    " \n",
    "# df = pd.DataFrame(data)\n",
    " \n",
    "# print(df)\n",
    "\n",
    "#@@@@@@Creating the pandas while importing the file \n",
    "\n",
    "# import pandas as pd\n",
    "\n",
    "# nba = pd.read_csv(\"nba.csv\")\n",
    "\n",
    "# print(nba)\n",
    "# readnba =pd.DataFrame(nba)\n",
    "# print(readnba)\n",
    "\n"
   ]
  },
  {
   "cell_type": "markdown",
   "metadata": {},
   "source": [
    "Dealing with Rows and Columns in pandas"
   ]
  },
  {
   "cell_type": "code",
   "execution_count": 140,
   "metadata": {},
   "outputs": [
    {
     "name": "stderr",
     "output_type": "stream",
     "text": [
      "C:\\Users\\Kamal\\Anaconda3\\lib\\site-packages\\ipykernel_launcher.py:49: FutureWarning: Sorting because non-concatenation axis is not aligned. A future version\n",
      "of pandas will change to not sort by default.\n",
      "\n",
      "To accept the future behavior, pass 'sort=False'.\n",
      "\n",
      "To retain the current behavior and silence the warning, pass 'sort=True'.\n",
      "\n"
     ]
    }
   ],
   "source": [
    "#@@@@@@@@ Column selection\n",
    "\n",
    "# # Import pandas package \n",
    "# import pandas as pd \n",
    "  \n",
    "# # Define a dictionary containing employee data \n",
    "# data = {'Name':['Jai', 'Princi', 'Gaurav', 'Anuj'], \n",
    "#         'Age':[27, 24, 22, 32], \n",
    "#         'Address':['Delhi', 'Kanpur', 'Allahabad', 'Kannauj'], \n",
    "#         'Qualification':['Msc', 'MA', 'MCA', 'Phd']} \n",
    "  \n",
    "# # Convert the dictionary into DataFrame  \n",
    "# df = pd.DataFrame(data) \n",
    "  \n",
    "\n",
    "#print(df[['Name', 'Qualification']])                                             ###Selecting the column\n",
    "\n",
    "#@@@@@@@@ Column Addition:\n",
    "\n",
    "# address = ['Delhi', 'Bangalore', 'Chennai', 'Patna'] \n",
    "\n",
    "# df['Address'] = address                                                         ###Column Addition\n",
    "\n",
    "#@@@@@@@@ Column Deletion:\n",
    "\n",
    "\n",
    "# print(df)                                                                       ###Column deletion\n",
    "# dropping passed columns \n",
    "#lol = df.drop([\"Age\", \"Address\"], axis = 1,inplace = True)  ### Droping the column,axis = 0 -->column,1 -->rows\n",
    "                                                ### inplace = true will delete the data from original file false will not delete \n",
    "  \n",
    "\n",
    "#@@@@@@@@ rows selection\n",
    "\n",
    "#data = pd.read_csv(\"nba.csv\", index_col =\"Name\")  ### index_col is used to give the index column \n",
    "\n",
    "#first = data.loc[\"Avery Bradley\"]                 ###extracting the specific row if the indexed is string based\n",
    "\n",
    "#first = data.iloc[0:1,1:2]                        ###Rows can also be selected by passing integer location to an iloc[] function\n",
    "\n",
    "\n",
    "\n",
    "#@@@@@@@@ rows Addition:\n",
    "\n",
    "#new_row = pd.DataFrame({'Name':'Geeks', 'Team':'Boston', 'Number':3, \n",
    "                        'Position':'PG', 'Age':33, 'Height':'6-2', \n",
    "                        'Weight':189, 'College':'MIT', 'Salary':99999}, \n",
    "                                                            index =[0]) \n",
    "# simply concatenate both dataframes \n",
    "#df = pd.concat([new_row, df]).reset_index(drop = True)   #### concatenate is used to add the rows in the dataframe\n",
    "                                                         ####rest_index(drop = True) is to drop the indexed column \n",
    "\n",
    "\n",
    "#@@@@@@@@ rows deletion\n",
    "\n",
    "#data.drop([\"Avery Bradley\", \"John Holland\", \"R.J. Hunter\", \n",
    "                            \"R.J. Hunter\"], inplace = True)   #### droping the rows with axis = 0\n",
    "    \n",
    "    "
   ]
  },
  {
   "cell_type": "markdown",
   "metadata": {},
   "source": [
    "Indexing and selecting"
   ]
  },
  {
   "cell_type": "code",
   "execution_count": 156,
   "metadata": {},
   "outputs": [],
   "source": [
    "# import pandas as pd \n",
    "  \n",
    "# data = pd.read_csv(\"nba.csv\", index_col =\"Name\")\n",
    "\n",
    "#first = data[\"Age\"]                                                # retrieving columns by indexing operator \n",
    "#first = data[[\"Age\", \"College\", \"Salary\"]]                         # retrieving multiple columns by indexing operator\n",
    "\n",
    "#first = data.loc[\"Avery Bradley\"]                                  # retrieving row by loc method \n",
    "\n",
    "#first = data.loc[[\"Avery Bradley\", \"R.J. Hunter\"]]                 # retrieving multiple rows by loc method \n",
    "                                                                    # Selecting two rows and three columns\n",
    "#first = data.loc[[\"Avery Bradley\", \"R.J. Hunter\"], \n",
    "                   #[\"Team\", \"Number\", \"Position\"]] \n",
    "                                                                  #Dataframe.loc[[\"row1\", \"row2\"], [\"column1\", \"column2\", \"column3\"]]  \n",
    "                                                                    # Selecting all of the rows and some columns \n",
    "#first = data.loc[:, [\"Team\", \"Number\", \"Position\"]] \n",
    "                                                                  #Dataframe.loc[[:, [\"column1\", \"column2\", \"column3\"]]\n",
    "    \n",
    "#row2 = data.iloc[3]                                               #retrieving rows using integer by iloc method\n",
    "\n",
    "#row2 = data.iloc [[3, 5, 7]]                                      #retrieving multiple rows by iloc method \n",
    "\n",
    "#row2 = data.iloc [[3, 4], [1, 2]]                                 #retrieving two rows and two columns by iloc method \n",
    "\n",
    "#row2 = data.iloc [:, [1, 2]]                                      #retrieving all rows and some columns by iloc method \n",
    "\n",
    "  "
   ]
  },
  {
   "cell_type": "markdown",
   "metadata": {},
   "source": [
    "Casting the datatype of the column in Pandas DataFrame \n",
    "\n",
    "1, to_numeric() - provides functionality to safely convert non-numeric types (e.g. strings) to a suitable numeric type. (See also to_datetime() and to_timedelta().)\n",
    "\n",
    "2, astype() - convert (almost) any type to (almost) any other type (even if it's not necessarily sensible to do so). Also allows you to convert to categorial types (very useful).\n",
    "\n",
    "3, infer_objects() - a utility method to convert object columns holding Python objects  to a more specific type."
   ]
  },
  {
   "cell_type": "code",
   "execution_count": 200,
   "metadata": {},
   "outputs": [],
   "source": [
    "# First and Second approach using astype()\n",
    "\n",
    "# First approach\n",
    "\n",
    "# a = [['a', '1', '4'], ['b', '70', '3'], ['1', '5', '0']]\n",
    "# df = pd.DataFrame(a, columns=['col_name_1', 'col_name_2', 'col_name_3'])\n",
    "# df = df.astype({'col_name_2':'float64', 'col_name_3':'float64'})                          \n",
    "# df.info()\n",
    "\n",
    "# Second approach\n",
    "# df[['col_name_2', 'col_name_3']] = df[['col_name_2', 'col_name_3']].astype('float64')\n",
    "# df.info()\n",
    "\n",
    "#Third approach \n",
    "\n",
    "# df = pd.DataFrame({'a': [7, 1, 5], 'b': ['3','2','1']}, dtype='object')\n",
    "# df = df.infer_objects()\n",
    "# df.info()"
   ]
  },
  {
   "cell_type": "markdown",
   "metadata": {},
   "source": [
    "Detect Missing values in Panda"
   ]
  },
  {
   "cell_type": "code",
   "execution_count": 207,
   "metadata": {},
   "outputs": [],
   "source": [
    "# df.isna()\n",
    "# df.notna()\n",
    "# df.copy()"
   ]
  }
 ],
 "metadata": {
  "kernelspec": {
   "display_name": "Python 3",
   "language": "python",
   "name": "python3"
  },
  "language_info": {
   "codemirror_mode": {
    "name": "ipython",
    "version": 3
   },
   "file_extension": ".py",
   "mimetype": "text/x-python",
   "name": "python",
   "nbconvert_exporter": "python",
   "pygments_lexer": "ipython3",
   "version": "3.7.4"
  }
 },
 "nbformat": 4,
 "nbformat_minor": 2
}
