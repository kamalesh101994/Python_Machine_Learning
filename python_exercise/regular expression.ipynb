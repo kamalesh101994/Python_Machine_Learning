{
 "cells": [
  {
   "cell_type": "code",
   "execution_count": 2,
   "metadata": {},
   "outputs": [
    {
     "name": "stdout",
     "output_type": "stream",
     "text": [
      "Original string:  <p>Contents :</p><a href=\"https://w3resource.com\">Python Examples</a><a href=\"http://github.com\">Even More Examples</a>\n",
      "Urls:  ['https://w3resource.com', 'http://github.com']\n"
     ]
    }
   ],
   "source": [
    "#########Google code using URL's\n",
    "\n",
    "import re\n",
    "text = '<p>Contents :</p><a href=\"https://w3resource.com\">Python Examples</a><a href=\"http://github.com\">Even More Examples</a>'\n",
    "urls = re.findall('http[s]?://(?:[a-zA-Z]|[0-9]|[$-_@.&+]|[!*\\(\\),]|(?:%[0-9a-fA-F][0-9a-fA-F]))+', text)\n",
    "print(\"Original string: \",text)\n",
    "print(\"Urls: \",urls)"
   ]
  },
  {
   "cell_type": "code",
   "execution_count": 5,
   "metadata": {},
   "outputs": [
    {
     "name": "stdout",
     "output_type": "stream",
     "text": [
      "re.compile('Hello how are you ')\n"
     ]
    }
   ],
   "source": [
    "#########compile mthod is used for reuseability in the code --- it is were the (regurlar expression) is passed\n",
    "\n",
    "import re\n",
    "\n",
    "pattern = re.compile(r\"Hello how are you \")\n",
    "print(pattern)"
   ]
  },
  {
   "cell_type": "code",
   "execution_count": 17,
   "metadata": {},
   "outputs": [
    {
     "data": {
      "text/plain": [
       "'0'"
      ]
     },
     "execution_count": 17,
     "metadata": {},
     "output_type": "execute_result"
    }
   ],
   "source": [
    "##########Search method -- it will list the first occurence of the string\n",
    "import re\n",
    "\n",
    "def regex(string):\n",
    "    \"\"\"This function returns at least one matching digit.\"\"\"\n",
    "    pattern = re.compile(r\"\\d\") # For brevity, this is the same as r\"\\d+\"\n",
    "    result = pattern.search(string)\n",
    "    if result:\n",
    "        return  result.group()\n",
    "    return None\n",
    "\n",
    "# Call our function, passing in our string\n",
    "regex(\"02002 James Bond 689156 doling\")"
   ]
  },
  {
   "cell_type": "code",
   "execution_count": 26,
   "metadata": {},
   "outputs": [
    {
     "name": "stdout",
     "output_type": "stream",
     "text": [
      "\n"
     ]
    }
   ],
   "source": [
    "##########Search method\n",
    "import re\n",
    "\n",
    "string = \"\\n  2015 dreamer kamalesh 2020\"\n",
    "result = re.search(r\"\\d{0,}\", string, re.MULTILINE) \n",
    "print (result.group()) # Prints out 'dreamer'"
   ]
  },
  {
   "cell_type": "code",
   "execution_count": 40,
   "metadata": {},
   "outputs": [
    {
     "data": {
      "text/plain": [
       "['brown', 'altered', 'DURING']"
      ]
     },
     "execution_count": 40,
     "metadata": {},
     "output_type": "execute_result"
    }
   ],
   "source": [
    "###########findall method\n",
    "\n",
    "import re\n",
    "\n",
    "def finder(string):\n",
    "    \"\"\"This function finds all the words in a given string.\"\"\"\n",
    "    result_list = re.findall(r'\\w+(?=\\sfox)', string)\n",
    "    return result_list\n",
    "\n",
    "# Call finder function, passing in the string argument\n",
    "finder(\"The quick brown fox altered fox DURING fox\")"
   ]
  },
  {
   "cell_type": "code",
   "execution_count": 47,
   "metadata": {},
   "outputs": [
    {
     "name": "stdout",
     "output_type": "stream",
     "text": [
      "Please, enter your name: bdfkbdag2534\n",
      "Please enter your name correctly!\n",
      "Please, enter your name: aega ekga rgj\n",
      "Please enter your name correctly!\n",
      "Please, enter your name: ega;hcngrc,agrmaegnj.rg\n",
      "Please enter your name correctly!\n",
      "Please, enter your name: amfnvkmdfvndfvndv\n"
     ]
    }
   ],
   "source": [
    "###############using search method in regex\n",
    "\n",
    "import re\n",
    "\n",
    "name_check = re.compile(r\"[^A-Za-zs.]\")\n",
    "\n",
    "name = input (\"Please, enter your name: \")\n",
    "\n",
    "while name_check.search(name):\n",
    "    print (\"Please enter your name correctly!\")\n",
    "    name = input (\"Please, enter your name: \")\n",
    "    \n"
   ]
  },
  {
   "cell_type": "code",
   "execution_count": 212,
   "metadata": {},
   "outputs": [
    {
     "name": "stdout",
     "output_type": "stream",
     "text": [
      "['welcome']\n"
     ]
    }
   ],
   "source": [
    "###########find all function\n",
    "\n",
    "import re\n",
    "\n",
    "pattern = re.compile(r'\\w+(?=\\sback)')\n",
    "result = pattern.findall(\"Me, myself, and I got the track , welcome back\")\n",
    "print (result) # prints 'brown'"
   ]
  },
  {
   "cell_type": "code",
   "execution_count": 43,
   "metadata": {},
   "outputs": [
    {
     "name": "stdout",
     "output_type": "stream",
     "text": [
      "Original string:  <p>Contents :</p><a href=\"https://w3resource.com\">Python Examples</a><a href=\"http://github.com\">Even More Examples</a>\n",
      "Urls:  ['https://w3resource', 'http://github']\n"
     ]
    }
   ],
   "source": [
    "#####3Google answere for finding URLs\n",
    "\n",
    "\n",
    "import re\n",
    "text = '<p>Contents :</p><a href=\"https://w3resource.com\">Python Examples</a><a href=\"http://github.com\">Even More Examples</a>'\n",
    "urls = re.findall('http[s]?://(?:[a-zA-Z]|[0-9])+', text)\n",
    "print(\"Original string: \",text)\n",
    "print(\"Urls: \",urls)"
   ]
  },
  {
   "cell_type": "code",
   "execution_count": 87,
   "metadata": {},
   "outputs": [
    {
     "name": "stdout",
     "output_type": "stream",
     "text": [
      "Mary had a little lamb.And whereever that{ mary} went,the {lamb }was sure to go.*% lambmary\n",
      "\n",
      "\n"
     ]
    }
   ],
   "source": [
    "###########highlighting the values that is passed in the vaiable using function and sub method =------- class method executed\n",
    "\n",
    "import re\n",
    "\n",
    "def re_show(pat,s):\n",
    "    print(re.compile(pat,re.M).sub(\"{\\g<0>}\",s.lstrip()))\n",
    "    print(\"\\n\")\n",
    "s = \"\"\"Mary had a little lamb.And whereever that mary went,the lamb was sure to go.*% lambmary\"\"\"\n",
    "\n",
    "re_show(r\"lamb | mary\",s)"
   ]
  },
  {
   "cell_type": "code",
   "execution_count": 138,
   "metadata": {},
   "outputs": [
    {
     "name": "stdout",
     "output_type": "stream",
     "text": [
      "Mary had a little lamb.And whereever that mary went,the lamb was sure to go lambmary \n",
      "\n",
      "Mary had a little lamb.And whereever that mary went,the lamb was sure to go lambmary\n"
     ]
    }
   ],
   "source": [
    "##########Strip method\n",
    "\n",
    "\n",
    "s = \"\"\"Mary had a little lamb.And whereever that mary went,the lamb was sure to go lambmary \\n\"\"\"\n",
    "print(s)\n",
    "pol = s.rstrip()\n",
    "print(pol)"
   ]
  },
  {
   "cell_type": "code",
   "execution_count": 219,
   "metadata": {},
   "outputs": [
    {
     "name": "stdout",
     "output_type": "stream",
     "text": [
      "Mary had a little lamb.And whereever a{213}avf that mary went,the lamb was sure to go.*% lambmary {32146815}\n"
     ]
    }
   ],
   "source": [
    "###########highlighting the values that is passed in the vaiable using function and sub method\n",
    "\n",
    "import re\n",
    "\n",
    "def re_show(pat,s):\n",
    "    pattern = re.compile(pat,re.M)\n",
    "    result = pattern.sub(\"{\\g<0>}\",s.rstrip())\n",
    "    print(result)\n",
    "s = \"\"\"Mary had a little lamb.And whereever a213avf that mary went,the lamb was sure to go.*% lambmary 32146815\"\"\"\n",
    "#s = \"\"\"pthon \\ are \\ good \\ alright @ wish you\"\"\"\n",
    "\n",
    "\n",
    "re_show(r\"\\d+\",s)\n"
   ]
  },
  {
   "cell_type": "code",
   "execution_count": 229,
   "metadata": {},
   "outputs": [
    {
     "name": "stdout",
     "output_type": "stream",
     "text": [
      "Urls:  ['https://w3resource.com', 'http://github.com']\n"
     ]
    }
   ],
   "source": [
    "########## finding the url by using find all function\n",
    "\n",
    "import re\n",
    "text = '<p>Contents :</p><a href=\"https://w3resource.com\">Python14821 Examples</a><a href=\"http://github.com\">Even More Examples</a>'\n",
    "def re_url(pat,s):\n",
    "    pattern = re.compile(pat,re.M)\n",
    "    result = pattern.findall(text)\n",
    "    print(\"Urls: \",result)\n",
    "re_url(r'https?://.+?(?=\\\")',text)\n",
    "#re_url(r'https://?.',text)\n",
    "\n",
    "        "
   ]
  },
  {
   "cell_type": "code",
   "execution_count": 277,
   "metadata": {},
   "outputs": [
    {
     "name": "stdout",
     "output_type": "stream",
     "text": [
      "https://w3resource.com Matches the URL pattern:\n",
      "http://github.com Matches the URL pattern:\n"
     ]
    }
   ],
   "source": [
    "########## finding the url by using find all function & and by using IF and FOR loop and SEARCH option and SPLIT function\n",
    "\n",
    "import re\n",
    "text = '<p>Contents :</p><a href=\"https://w3resource.com\">Python14821 Examples</a><a href=\"http://github.com\">Even More Examples</a>'\n",
    "def re_url(pat,text):\n",
    "    pattern = re.compile(pat,re.M)\n",
    "    result = pattern.split(text)\n",
    "    return result\n",
    "dol = re_url(r'\\\"',text)\n",
    "#re_url(r'https://?.',text)\n",
    "#print(dol)\n",
    "\n",
    "patterns = re.compile(\"http\")   \n",
    "for place in dol:\n",
    "    if patterns.findall(place):\n",
    "        print (\"%s Matches the URL pattern:\"%place)\n",
    "    \n",
    "\n",
    "        "
   ]
  },
  {
   "cell_type": "code",
   "execution_count": 16,
   "metadata": {},
   "outputs": [
    {
     "name": "stdout",
     "output_type": "stream",
     "text": [
      "['finding', 'dory']\n"
     ]
    }
   ],
   "source": [
    "import re\n",
    "\n",
    "def finder(string):\n",
    "    \"\"\"This function finds all the words in a given string.\"\"\"\n",
    "    result_list = re.findall(r\"\\w+\", string)\n",
    "    return result_list\n",
    "\n",
    "# Call finder function, passing in the string argument\n",
    "a = finder(\"finding dory\")\n",
    "print(a)"
   ]
  }
 ],
 "metadata": {
  "kernelspec": {
   "display_name": "Python 3",
   "language": "python",
   "name": "python3"
  },
  "language_info": {
   "codemirror_mode": {
    "name": "ipython",
    "version": 3
   },
   "file_extension": ".py",
   "mimetype": "text/x-python",
   "name": "python",
   "nbconvert_exporter": "python",
   "pygments_lexer": "ipython3",
   "version": "3.7.4"
  }
 },
 "nbformat": 4,
 "nbformat_minor": 2
}
