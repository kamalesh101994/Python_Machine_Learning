{
 "cells": [
  {
   "cell_type": "code",
   "execution_count": 6,
   "metadata": {},
   "outputs": [],
   "source": [
    "def mul_by_num(num):\n",
    "    return lambda a : a*num"
   ]
  },
  {
   "cell_type": "code",
   "execution_count": 7,
   "metadata": {},
   "outputs": [
    {
     "data": {
      "text/plain": [
       "15"
      ]
     },
     "execution_count": 7,
     "metadata": {},
     "output_type": "execute_result"
    }
   ],
   "source": [
    "x = mul_by_num(5)\n",
    "x(3)"
   ]
  },
  {
   "cell_type": "code",
   "execution_count": 8,
   "metadata": {},
   "outputs": [
    {
     "data": {
      "text/plain": [
       "-8"
      ]
     },
     "execution_count": 8,
     "metadata": {},
     "output_type": "execute_result"
    }
   ],
   "source": [
    " y = mul_by_num(2)\n",
    "y(-4)"
   ]
  },
  {
   "cell_type": "code",
   "execution_count": 129,
   "metadata": {},
   "outputs": [
    {
     "name": "stdout",
     "output_type": "stream",
     "text": [
      "[0, 1, 1, 2, 3, 5, 8, 13, 21, 34]\n"
     ]
    }
   ],
   "source": [
    "from functools import reduce\n",
    "\n",
    "fib = lambda n: reduce(lambda x, _: x+[x[-1]+x[-2]], range(n-2), [0, 1]) \n",
    "\n",
    "print(fib(10))\n"
   ]
  },
  {
   "cell_type": "code",
   "execution_count": 9,
   "metadata": {},
   "outputs": [
    {
     "name": "stdout",
     "output_type": "stream",
     "text": [
      "200\n"
     ]
    }
   ],
   "source": [
    "import urllib.request\n",
    "print(urllib.request.urlopen(\"http://www.stackoverflow.com\").getcode())"
   ]
  },
  {
   "cell_type": "code",
   "execution_count": 50,
   "metadata": {},
   "outputs": [
    {
     "name": "stdout",
     "output_type": "stream",
     "text": [
      "200\n"
     ]
    }
   ],
   "source": [
    "url = \"https://www.python.org\"\n",
    "page = requests.get(url)\n",
    "print (page.status_code)"
   ]
  },
  {
   "cell_type": "code",
   "execution_count": 79,
   "metadata": {},
   "outputs": [],
   "source": [
    "from urllib.request import Request, urlopen\n",
    "from urllib.error import URLError, HTTPError\n",
    "\n",
    "def my_url(url):\n",
    "    req = Request(url)\n",
    "    try:\n",
    "        response = urlopen(req)\n",
    "    except HTTPError as e:\n",
    "            print('The server couldn\\'t fulfill the request.')\n",
    "            print('Error code: ', e.code)\n",
    "    except URLError as e:\n",
    "                print('We failed to reach a server.')\n",
    "                print('Reason: ', e.reason)\n",
    "    else:\n",
    "                    print ('Website is working fine')"
   ]
  },
  {
   "cell_type": "code",
   "execution_count": 80,
   "metadata": {},
   "outputs": [
    {
     "name": "stdout",
     "output_type": "stream",
     "text": [
      "Website is working fine\n"
     ]
    }
   ],
   "source": [
    "my_url(\"http://www.python.org\")"
   ]
  },
  {
   "cell_type": "code",
   "execution_count": 7,
   "metadata": {},
   "outputs": [
    {
     "name": "stdout",
     "output_type": "stream",
     "text": [
      "200\n",
      "Server is responding and website is working fine\n"
     ]
    }
   ],
   "source": [
    "from urllib.request import Request\n",
    "def new_url(url):\n",
    "    req = urllib.request.urlopen(url)\n",
    "    Response_code = format(req.code)\n",
    "    print(Response_code)\n",
    "    if(int(Response_code) == 200):\n",
    "        print(\"Server is responding and website is working fine\")\n",
    "    else:\n",
    "        print(\"Error to reach the page\")\n",
    "        \n",
    "new_url(\"http://www.python.org\")"
   ]
  },
  {
   "cell_type": "code",
   "execution_count": 18,
   "metadata": {},
   "outputs": [
    {
     "name": "stdout",
     "output_type": "stream",
     "text": [
      "{'coord': {'lon': 139.01, 'lat': 35.02}, 'weather': [{'id': 800, 'main': 'Clear', 'description': 'clear sky', 'icon': '01n'}], 'base': 'stations', 'main': {'temp': 285.514, 'pressure': 1013.75, 'humidity': 100, 'temp_min': 285.514, 'temp_max': 285.514, 'sea_level': 1023.22, 'grnd_level': 1013.75}, 'wind': {'speed': 5.52, 'deg': 311}, 'clouds': {'all': 0}, 'dt': 1485792967, 'sys': {'message': 0.0025, 'country': 'JP', 'sunrise': 1485726240, 'sunset': 1485763863}, 'id': 1907296, 'name': 'Tawarano', 'cod': 200}\n",
      "Temperature: 285.514 \n",
      "Wind speed: 5.52 \n",
      "Description: clear sky \n",
      "Weather: Clear\n"
     ]
    }
   ],
   "source": [
    "import urllib.request \n",
    "import requests\n",
    "URL = 'https://samples.openweathermap.org/data/2.5/weather?lat=35&lon=139&'\n",
    "r = requests.get(url = URL +'APPID=b35975e18dc93725acb092f7272cc6b8')\n",
    "data = r.json()\n",
    "print(data)\n",
    "print(\"Temperature:\", data['main']['temp'], \"\\nWind speed:\", data['wind']['speed'], \"\\nDescription:\", data['weather'][0]['description'],\n",
    "     \"\\nWeather:\", data['weather'][0]['main'])"
   ]
  },
  {
   "cell_type": "code",
   "execution_count": 59,
   "metadata": {},
   "outputs": [
    {
     "name": "stdout",
     "output_type": "stream",
     "text": [
      "[0, 1, 1]\n"
     ]
    }
   ],
   "source": [
    "def fibonacci(count): \n",
    "    fib_list = [0, 1]\n",
    "    any(map(lambda _: fib_list.append(sum(fib_list[-2:])), range(2, count)))\n",
    "    return fib_list[:count] \n",
    "\n",
    "print(fibonacci(3)) \n"
   ]
  },
  {
   "cell_type": "code",
   "execution_count": 27,
   "metadata": {},
   "outputs": [],
   "source": [
    "fib_list = [0, 1]"
   ]
  },
  {
   "cell_type": "code",
   "execution_count": 29,
   "metadata": {},
   "outputs": [
    {
     "data": {
      "text/plain": [
       "[0, 1]"
      ]
     },
     "execution_count": 29,
     "metadata": {},
     "output_type": "execute_result"
    }
   ],
   "source": [
    "fib_list[:2]"
   ]
  },
  {
   "cell_type": "code",
   "execution_count": 31,
   "metadata": {},
   "outputs": [
    {
     "data": {
      "text/plain": [
       "[0, 1, 1, 2]"
      ]
     },
     "execution_count": 31,
     "metadata": {},
     "output_type": "execute_result"
    }
   ],
   "source": [
    "fib_list.append(sum(fib_list[-2:]))\n",
    "fib_list"
   ]
  },
  {
   "cell_type": "code",
   "execution_count": 37,
   "metadata": {},
   "outputs": [
    {
     "name": "stdout",
     "output_type": "stream",
     "text": [
      "[0, 1]\n"
     ]
    }
   ],
   "source": [
    "def fibonacci(count): \n",
    "    fib_list = [0, 1]\n",
    "    any(map(lambda _: fib_list.append(sum(fib_list[-2:])), range(2, count)))\n",
    "    return fib_list[:count] \n",
    "\n",
    "print(fibonacci(2)) \n"
   ]
  },
  {
   "cell_type": "code",
   "execution_count": 57,
   "metadata": {},
   "outputs": [],
   "source": [
    "squares = []\n",
    "for x in range(2,4): squares.append(x*x)"
   ]
  },
  {
   "cell_type": "code",
   "execution_count": 60,
   "metadata": {},
   "outputs": [
    {
     "data": {
      "text/plain": [
       "[4, 9]"
      ]
     },
     "execution_count": 60,
     "metadata": {},
     "output_type": "execute_result"
    }
   ],
   "source": [
    "squares"
   ]
  },
  {
   "cell_type": "code",
   "execution_count": 52,
   "metadata": {},
   "outputs": [
    {
     "name": "stdout",
     "output_type": "stream",
     "text": [
      "people.xml\n",
      "OrderedDict([('people', OrderedDict([('person', [OrderedDict([('@id', '1'), ('Name', 'Michael'), ('age', '25')]), OrderedDict([('@id', '2'), ('Name', 'Eliezer'), ('age', '22')])])]))])\n",
      "{\"people\": {\"person\": [{\"@id\": \"1\", \"Name\": \"Michael\", \"age\": \"25\"}, {\"@id\": \"2\", \"Name\": \"Eliezer\", \"age\": \"22\"}]}}\n"
     ]
    },
    {
     "data": {
      "text/plain": [
       "116"
      ]
     },
     "execution_count": 52,
     "metadata": {},
     "output_type": "execute_result"
    }
   ],
   "source": [
    "import xmltodict, json\n",
    "import os\n",
    "\n",
    "#path to the folder holding the XML\n",
    "directory = 'D:\\Database_Programming\\Lab_Tutorial'\n",
    "\n",
    "#iterate over the XML files in the folder\n",
    "for filename in os.listdir(directory):\n",
    "    if filename.endswith(\".xml\"):\n",
    "        f = open(directory + \"\\\\\"+filename)\n",
    "\n",
    "        XML_content = f.read()\n",
    "\n",
    "        #parse the content of each file using xmltodict\n",
    "        x = xmltodict.parse(XML_content)\n",
    "        j = json.dumps(x)\n",
    "\n",
    "        print (filename)\n",
    "        print(x)\n",
    "        print(j)\n",
    "filename = filename.replace('.xml', '')\n",
    "output_file = open(filename + '.json', 'w')\n",
    "output_file.write(j)"
   ]
  },
  {
   "cell_type": "code",
   "execution_count": 50,
   "metadata": {},
   "outputs": [],
   "source": [
    "import xml.etree.ElementTree as ET\n",
    "import csv\n",
    "\n",
    "tree = ET.parse(\"D:\\Database_Programming\\Lab_Tutorial\\people.xml\")\n",
    "root = tree.getroot()\n",
    "\n",
    "people_data = open('C:/Users/Sankar/people.csv', 'w')\n",
    "\n",
    "csvwriter = csv.writer(people_data)\n",
    "people_head =[]\n",
    "\n",
    "count=0\n",
    "\n",
    "for people in root.findall('person'):\n",
    "    Name=[]\n",
    "    age =[]\n",
    "    if count == 0:\n",
    "        name = people.find('Name').tag\n",
    "        people_head.append(name)\n",
    "        age = people.find('age').tag\n",
    "        people_head.append(age)\n",
    "        csvwriter.writerow(people_head)\n",
    "        count = count + 1\n",
    "    name = people.find('Name').text\n",
    "    Name.append(name)\n",
    "    age = people.find('age').text\n",
    "    Name.append(age)\n",
    "    csvwriter.writerow(Name)\n",
    "people_data.close()"
   ]
  }
 ],
 "metadata": {
  "kernelspec": {
   "display_name": "Python 3",
   "language": "python",
   "name": "python3"
  },
  "language_info": {
   "codemirror_mode": {
    "name": "ipython",
    "version": 3
   },
   "file_extension": ".py",
   "mimetype": "text/x-python",
   "name": "python",
   "nbconvert_exporter": "python",
   "pygments_lexer": "ipython3",
   "version": "3.7.4"
  }
 },
 "nbformat": 4,
 "nbformat_minor": 2
}
